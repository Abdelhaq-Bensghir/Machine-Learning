{
  "nbformat": 4,
  "nbformat_minor": 0,
  "metadata": {
    "colab": {
      "name": "Copie de Regression polynomiale",
      "provenance": [],
      "collapsed_sections": [],
      "authorship_tag": "ABX9TyN5PgN4jYxsKEGfhE5PYn3/",
      "include_colab_link": true
    },
    "kernelspec": {
      "name": "python3",
      "display_name": "Python 3"
    }
  },
  "cells": [
    {
      "cell_type": "markdown",
      "metadata": {
        "id": "view-in-github",
        "colab_type": "text"
      },
      "source": [
        "<a href=\"https://colab.research.google.com/github/lioAbdo/Machine-Learning/blob/master/Regression_polynomiale.ipynb\" target=\"_parent\"><img src=\"https://colab.research.google.com/assets/colab-badge.svg\" alt=\"Open In Colab\"/></a>"
      ]
    },
    {
      "cell_type": "markdown",
      "metadata": {
        "id": "LwNmbME1VNkR",
        "colab_type": "text"
      },
      "source": [
        "#**Régression polynomial**    > cad Régression non linéaire\n"
      ]
    },
    {
      "cell_type": "code",
      "metadata": {
        "id": "hfkOQHy6BNaT",
        "colab_type": "code",
        "colab": {}
      },
      "source": [
        "import numpy as np\n",
        "from sklearn.datasets import make_regression\n",
        "import matplotlib.pyplot as plt"
      ],
      "execution_count": 0,
      "outputs": []
    },
    {
      "cell_type": "code",
      "metadata": {
        "id": "pt8i2bOuBelB",
        "colab_type": "code",
        "outputId": "96a0afcd-19b8-4bcc-e639-78205125084b",
        "colab": {
          "base_uri": "https://localhost:8080/",
          "height": 282
        }
      },
      "source": [
        "(x,y) = make_regression(n_samples=100, n_features=1, noise=5)\n",
        "y=y+abs(y/2)\n",
        "plt.scatter(x,y)"
      ],
      "execution_count": 0,
      "outputs": [
        {
          "output_type": "execute_result",
          "data": {
            "text/plain": [
              "<matplotlib.collections.PathCollection at 0x7f4cf1720080>"
            ]
          },
          "metadata": {
            "tags": []
          },
          "execution_count": 117
        },
        {
          "output_type": "display_data",
          "data": {
            "image/png": "[encoded data removed]",
            "text/plain": [
              "<Figure size 432x288 with 1 Axes>"
            ]
          },
          "metadata": {
            "tags": [],
            "needs_background": "light"
          }
        }
      ]
    },
    {
      "cell_type": "code",
      "metadata": {
        "id": "XV0l8CamCdVu",
        "colab_type": "code",
        "outputId": "1789e3e2-d1c3-4382-b586-b20bc34b42d8",
        "colab": {
          "base_uri": "https://localhost:8080/",
          "height": 51
        }
      },
      "source": [
        " #Verifier toujours les dimensions\n",
        "print(x.shape)\n",
        "y=y.reshape(y.shape[0],1)\n",
        "print(y.shape)"
      ],
      "execution_count": 0,
      "outputs": [
        {
          "output_type": "stream",
          "text": [
            "(100, 1)\n",
            "(100, 1)\n"
          ],
          "name": "stdout"
        }
      ]
    },
    {
      "cell_type": "code",
      "metadata": {
        "id": "Dud0qdsIClTg",
        "colab_type": "code",
        "outputId": "d06ced79-52f1-4cd4-f480-522d6cf546f6",
        "colab": {
          "base_uri": "https://localhost:8080/",
          "height": 1000
        }
      },
      "source": [
        "#matrice X\n",
        "X=np.hstack((x, np.ones(x.shape)))\n",
        "X=np.hstack((x**2, X))\n",
        "X"
      ],
      "execution_count": 0,
      "outputs": [
        {
          "output_type": "execute_result",
          "data": {
            "text/plain": [
              "array([[ 6.25603870e-01,  7.90951244e-01,  1.00000000e+00],\n",
              "       [ 6.74533959e-01, -8.21300164e-01,  1.00000000e+00],\n",
              "       [ 1.99724737e-02, -1.41324002e-01,  1.00000000e+00],\n",
              "       [ 1.62480285e-01, -4.03088434e-01,  1.00000000e+00],\n",
              "       [ 1.86805211e-02, -1.36676703e-01,  1.00000000e+00],\n",
              "       [ 3.95239786e-01, -6.28680989e-01,  1.00000000e+00],\n",
              "       [ 4.13409079e-01,  6.42968957e-01,  1.00000000e+00],\n",
              "       [ 8.85189178e-01,  9.40844928e-01,  1.00000000e+00],\n",
              "       [ 3.54616485e-01, -5.95496838e-01,  1.00000000e+00],\n",
              "       [ 2.34289293e+00,  1.53065115e+00,  1.00000000e+00],\n",
              "       [ 3.04482957e+00,  1.74494400e+00,  1.00000000e+00],\n",
              "       [ 2.82999485e-01, -5.31976959e-01,  1.00000000e+00],\n",
              "       [ 1.79873044e-01,  4.24114423e-01,  1.00000000e+00],\n",
              "       [ 1.65162992e-02,  1.28515755e-01,  1.00000000e+00],\n",
              "       [ 8.38376792e-03,  9.15629178e-02,  1.00000000e+00],\n",
              "       [ 3.63321097e-01,  6.02761227e-01,  1.00000000e+00],\n",
              "       [ 1.45677792e-03, -3.81677602e-02,  1.00000000e+00],\n",
              "       [ 3.32040254e+00,  1.82219718e+00,  1.00000000e+00],\n",
              "       [ 1.24768154e+00, -1.11699666e+00,  1.00000000e+00],\n",
              "       [ 3.48716490e+00,  1.86739522e+00,  1.00000000e+00],\n",
              "       [ 1.50142664e-01, -3.87482469e-01,  1.00000000e+00],\n",
              "       [ 7.36373368e-02,  2.71362003e-01,  1.00000000e+00],\n",
              "       [ 1.59668766e-01,  3.99585743e-01,  1.00000000e+00],\n",
              "       [ 2.87213190e+00,  1.69473653e+00,  1.00000000e+00],\n",
              "       [ 1.40050011e-01, -3.74232563e-01,  1.00000000e+00],\n",
              "       [ 5.39268847e+00,  2.32221628e+00,  1.00000000e+00],\n",
              "       [ 1.74525877e+00, -1.32108242e+00,  1.00000000e+00],\n",
              "       [ 3.51090816e+00, -1.87374175e+00,  1.00000000e+00],\n",
              "       [ 1.46436933e+00, -1.21011129e+00,  1.00000000e+00],\n",
              "       [ 2.37004371e-03, -4.86830947e-02,  1.00000000e+00],\n",
              "       [ 1.48205339e-02,  1.21739615e-01,  1.00000000e+00],\n",
              "       [ 4.79693966e-01, -6.92599427e-01,  1.00000000e+00],\n",
              "       [ 9.61775104e-02, -3.10124992e-01,  1.00000000e+00],\n",
              "       [ 2.60149225e-01,  5.10048257e-01,  1.00000000e+00],\n",
              "       [ 4.63271417e-01, -6.80640447e-01,  1.00000000e+00],\n",
              "       [ 5.22469482e+00, -2.28575914e+00,  1.00000000e+00],\n",
              "       [ 1.24051080e-01,  3.52208858e-01,  1.00000000e+00],\n",
              "       [ 2.63151258e-01,  5.12982707e-01,  1.00000000e+00],\n",
              "       [ 1.10939247e+00,  1.05327702e+00,  1.00000000e+00],\n",
              "       [ 4.92688448e-02, -2.21965864e-01,  1.00000000e+00],\n",
              "       [ 4.07643036e-01, -6.38469292e-01,  1.00000000e+00],\n",
              "       [ 6.86781705e-01,  8.28722936e-01,  1.00000000e+00],\n",
              "       [ 3.65347730e-02, -1.91140715e-01,  1.00000000e+00],\n",
              "       [ 1.41475668e+00, -1.18943545e+00,  1.00000000e+00],\n",
              "       [ 1.42421782e+00,  1.19340598e+00,  1.00000000e+00],\n",
              "       [ 1.52558230e+00, -1.23514465e+00,  1.00000000e+00],\n",
              "       [ 4.90989930e-03,  7.00706736e-02,  1.00000000e+00],\n",
              "       [ 4.53556652e-01, -6.73466147e-01,  1.00000000e+00],\n",
              "       [ 1.45622749e+00, -1.20674251e+00,  1.00000000e+00],\n",
              "       [ 3.56124802e-02, -1.88712692e-01,  1.00000000e+00],\n",
              "       [ 1.17122671e+00, -1.08223228e+00,  1.00000000e+00],\n",
              "       [ 2.73874898e+00, -1.65491661e+00,  1.00000000e+00],\n",
              "       [ 2.52646909e-01,  5.02639940e-01,  1.00000000e+00],\n",
              "       [ 2.42947948e-01,  4.92897503e-01,  1.00000000e+00],\n",
              "       [ 5.01172366e-05, -7.07935284e-03,  1.00000000e+00],\n",
              "       [ 2.55058244e-01, -5.05032914e-01,  1.00000000e+00],\n",
              "       [ 2.95894205e+00,  1.72015757e+00,  1.00000000e+00],\n",
              "       [ 5.88259032e-01, -7.66980464e-01,  1.00000000e+00],\n",
              "       [ 8.91395530e-01,  9.44137453e-01,  1.00000000e+00],\n",
              "       [ 1.77945844e-01, -4.21836276e-01,  1.00000000e+00],\n",
              "       [ 8.93587699e-01, -9.45297678e-01,  1.00000000e+00],\n",
              "       [ 2.23484217e+00, -1.49493885e+00,  1.00000000e+00],\n",
              "       [ 1.01250093e+00, -1.00623105e+00,  1.00000000e+00],\n",
              "       [ 4.78063903e-01,  6.91421654e-01,  1.00000000e+00],\n",
              "       [ 1.88734660e-02, -1.37380734e-01,  1.00000000e+00],\n",
              "       [ 5.00456959e-01, -7.07429826e-01,  1.00000000e+00],\n",
              "       [ 3.33917231e-02,  1.82734023e-01,  1.00000000e+00],\n",
              "       [ 2.27510015e+00, -1.50834351e+00,  1.00000000e+00],\n",
              "       [ 2.07538123e-01,  4.55563523e-01,  1.00000000e+00],\n",
              "       [ 1.43192649e-01, -3.78408046e-01,  1.00000000e+00],\n",
              "       [ 6.28022491e-01, -7.92478700e-01,  1.00000000e+00],\n",
              "       [ 6.04834101e-01,  7.77710808e-01,  1.00000000e+00],\n",
              "       [ 1.04821771e-01, -3.23761904e-01,  1.00000000e+00],\n",
              "       [ 1.87851572e-01, -4.33418472e-01,  1.00000000e+00],\n",
              "       [ 3.80894022e-01, -6.17166122e-01,  1.00000000e+00],\n",
              "       [ 7.94730487e+00, -2.81909646e+00,  1.00000000e+00],\n",
              "       [ 6.30247887e-01, -7.93881532e-01,  1.00000000e+00],\n",
              "       [ 2.38648331e+00, -1.54482468e+00,  1.00000000e+00],\n",
              "       [ 2.80214623e+00,  1.67396124e+00,  1.00000000e+00],\n",
              "       [ 7.51133475e-03, -8.66679569e-02,  1.00000000e+00],\n",
              "       [ 1.96835082e-01, -4.43660999e-01,  1.00000000e+00],\n",
              "       [ 2.54456586e+00, -1.59516954e+00,  1.00000000e+00],\n",
              "       [ 3.13778459e+00,  1.77137929e+00,  1.00000000e+00],\n",
              "       [ 3.80687963e-01,  6.16999159e-01,  1.00000000e+00],\n",
              "       [ 3.42615872e+00, -1.85098858e+00,  1.00000000e+00],\n",
              "       [ 4.24342730e-01, -6.51415942e-01,  1.00000000e+00],\n",
              "       [ 1.93937254e+00,  1.39261356e+00,  1.00000000e+00],\n",
              "       [ 2.35922323e+00, -1.53597631e+00,  1.00000000e+00],\n",
              "       [ 1.91279686e+00,  1.38303899e+00,  1.00000000e+00],\n",
              "       [ 7.17479493e-02, -2.67858077e-01,  1.00000000e+00],\n",
              "       [ 2.04757782e+00,  1.43093600e+00,  1.00000000e+00],\n",
              "       [ 2.88891785e-01,  5.37486544e-01,  1.00000000e+00],\n",
              "       [ 6.25243054e-02,  2.50048606e-01,  1.00000000e+00],\n",
              "       [ 1.62793262e+00, -1.27590463e+00,  1.00000000e+00],\n",
              "       [ 6.51962441e-01, -8.07441912e-01,  1.00000000e+00],\n",
              "       [ 2.42344138e-01,  4.92284611e-01,  1.00000000e+00],\n",
              "       [ 5.12433729e-01, -7.15844766e-01,  1.00000000e+00],\n",
              "       [ 2.38218841e-02,  1.54343397e-01,  1.00000000e+00],\n",
              "       [ 4.39465413e-02, -2.09634304e-01,  1.00000000e+00],\n",
              "       [ 1.70139373e+00,  1.30437484e+00,  1.00000000e+00]])"
            ]
          },
          "metadata": {
            "tags": []
          },
          "execution_count": 119
        }
      ]
    },
    {
      "cell_type": "code",
      "metadata": {
        "id": "jN4BV31HCukw",
        "colab_type": "code",
        "outputId": "d064a412-d793-4de5-9ad3-54920b5ad186",
        "colab": {
          "base_uri": "https://localhost:8080/",
          "height": 34
        }
      },
      "source": [
        "#initialiser theta\n",
        "theta=np.random.randn(3,1)\n",
        "theta\n",
        "theta.shape"
      ],
      "execution_count": 0,
      "outputs": [
        {
          "output_type": "execute_result",
          "data": {
            "text/plain": [
              "(3, 1)"
            ]
          },
          "metadata": {
            "tags": []
          },
          "execution_count": 120
        }
      ]
    },
    {
      "cell_type": "markdown",
      "metadata": {
        "id": "ONxeLBEXE0VS",
        "colab_type": "text"
      },
      "source": [
        "##**Modèle**"
      ]
    },
    {
      "cell_type": "code",
      "metadata": {
        "id": "8OWtZ4jUCuoI",
        "colab_type": "code",
        "colab": {}
      },
      "source": [
        "# h(theta)\n",
        "def model(X, theta):\n",
        "  return X.dot(theta)  #c le produit matriciel, et c l'équivalent de 'ax+b'"
      ],
      "execution_count": 0,
      "outputs": []
    },
    {
      "cell_type": "code",
      "metadata": {
        "id": "o-3HDEURCujW",
        "colab_type": "code",
        "outputId": "342e7357-4c92-46d4-d1e0-c4476f188752",
        "colab": {
          "base_uri": "https://localhost:8080/",
          "height": 282
        }
      },
      "source": [
        "#afficher notre modèle\n",
        "plt.scatter(x,y)\n",
        "plt.plot(x, model(X,theta), c='r')"
      ],
      "execution_count": 0,
      "outputs": [
        {
          "output_type": "execute_result",
          "data": {
            "text/plain": [
              "[<matplotlib.lines.Line2D at 0x7f4cf19a9da0>]"
            ]
          },
          "metadata": {
            "tags": []
          },
          "execution_count": 122
        },
        {
          "output_type": "display_data",
          "data": {
            "image/png": "[encoded data removed]",
            "text/plain": [
              "<Figure size 432x288 with 1 Axes>"
            ]
          },
          "metadata": {
            "tags": [],
            "needs_background": "light"
          }
        }
      ]
    },
    {
      "cell_type": "markdown",
      "metadata": {
        "id": "PZ9hWcjvGzpc",
        "colab_type": "text"
      },
      "source": [
        "##**Cost function**"
      ]
    },
    {
      "cell_type": "code",
      "metadata": {
        "id": "--zF_t_ZGCk-",
        "colab_type": "code",
        "outputId": "750b3ef9-a235-4a7e-8396-371adb606a97",
        "colab": {
          "base_uri": "https://localhost:8080/",
          "height": 34
        }
      },
      "source": [
        "def cost_fct(X,y,theta):\n",
        "  m=len(y)\n",
        "  return 1/(2*m) * np.sum((model(X,theta)-y)**2)\n",
        "\n",
        "cost_fct(X,y,theta)"
      ],
      "execution_count": 0,
      "outputs": [
        {
          "output_type": "execute_result",
          "data": {
            "text/plain": [
              "2064.7202433874213"
            ]
          },
          "metadata": {
            "tags": []
          },
          "execution_count": 123
        }
      ]
    },
    {
      "cell_type": "code",
      "metadata": {
        "id": "HVXasD5RH-nL",
        "colab_type": "code",
        "colab": {}
      },
      "source": [
        "def grad(X,y,theta):\n",
        "  m=len(y)\n",
        "  return 1/m * X.T.dot(model(X,theta)-y) # X.T multiplié par h(theta)-y"
      ],
      "execution_count": 0,
      "outputs": []
    },
    {
      "cell_type": "code",
      "metadata": {
        "id": "r3aKR9mILYin",
        "colab_type": "code",
        "colab": {}
      },
      "source": [
        "def gradient_descent(X, y, theta, learning_rate, n_iterations):\n",
        "  cost_history=np.zeros(n_iterations)\n",
        "  for i in range(n_iterations):\n",
        "    theta = theta - learning_rate * grad(X,y,theta)\n",
        "    cost_history[i]=cost_fct(X,y,theta)\n",
        "  return theta, cost_history"
      ],
      "execution_count": 0,
      "outputs": []
    },
    {
      "cell_type": "markdown",
      "metadata": {
        "id": "ZI1nur6eNn7I",
        "colab_type": "text"
      },
      "source": [
        "##**ML!**"
      ]
    },
    {
      "cell_type": "code",
      "metadata": {
        "id": "xrwVFhB3LZGF",
        "colab_type": "code",
        "outputId": "be498a3d-94c7-4081-ed21-48960878430a",
        "colab": {
          "base_uri": "https://localhost:8080/",
          "height": 119
        }
      },
      "source": [
        "theta_final, cost_history = gradient_descent(X,y, theta, learning_rate=0.001, n_iterations=10000)\n",
        "print(theta_final)\n",
        "print('-'*10 + 'here is the cost function history')\n",
        "cost_history"
      ],
      "execution_count": 0,
      "outputs": [
        {
          "output_type": "stream",
          "text": [
            "[[12.59453567]\n",
            " [57.70843536]\n",
            " [10.11989938]]\n",
            "----------here is the cost function history\n"
          ],
          "name": "stdout"
        },
        {
          "output_type": "execute_result",
          "data": {
            "text/plain": [
              "array([2059.42553668, 2054.14925707, 2048.89131492, ...,   25.40691603,\n",
              "         25.40691586,   25.4069157 ])"
            ]
          },
          "metadata": {
            "tags": []
          },
          "execution_count": 126
        }
      ]
    },
    {
      "cell_type": "code",
      "metadata": {
        "id": "iLHUKY-XLZJE",
        "colab_type": "code",
        "outputId": "642f01c8-6435-432d-e347-379debf4ffb1",
        "colab": {
          "base_uri": "https://localhost:8080/",
          "height": 295
        }
      },
      "source": [
        "predictions=model(X,theta_final)\n",
        "plt.scatter(x[:,0],y)\n",
        "plt.scatter(x[:,0],predictions, c='r')\n",
        "plt.xlabel('points')\n",
        "plt.ylabel('values')\n",
        "plt.title('A visual')\n",
        "plt.show()"
      ],
      "execution_count": 0,
      "outputs": [
        {
          "output_type": "display_data",
          "data": {
            "image/png": "[encoded data removed]",
            "text/plain": [
              "<Figure size 432x288 with 1 Axes>"
            ]
          },
          "metadata": {
            "tags": [],
            "needs_background": "light"
          }
        }
      ]
    },
    {
      "cell_type": "code",
      "metadata": {
        "id": "FMd4ImvSw-uj",
        "colab_type": "code",
        "outputId": "c918d962-c95a-4197-c1c5-144084dc1b6c",
        "colab": {
          "base_uri": "https://localhost:8080/",
          "height": 295
        }
      },
      "source": [
        "\n",
        "plt.plot(range(10000), cost_history)\n",
        "plt.xlabel('itérations')\n",
        "plt.ylabel('la fonction coût')\n",
        "plt.title(\"courbe d'apprentissage\")\n",
        "plt.show()"
      ],
      "execution_count": 0,
      "outputs": [
        {
          "output_type": "display_data",
          "data": {
            "image/png": "[encoded data removed]",
            "text/plain": [
              "<Figure size 432x288 with 1 Axes>"
            ]
          },
          "metadata": {
            "tags": [],
            "needs_background": "light"
          }
        }
      ]
    },
    {
      "cell_type": "code",
      "metadata": {
        "id": "NVwo-h0NxWzd",
        "colab_type": "code",
        "outputId": "6fd0a73d-25e6-4efb-a736-e6ba12d9423f",
        "colab": {
          "base_uri": "https://localhost:8080/",
          "height": 34
        }
      },
      "source": [
        "# Calcul du coeffeicient R2 de détermination (montrer la réelle performance de notre modèle)\n",
        "\n",
        "def coef_determination(y, pred):    # pred : nos prédictions\n",
        "  u= ((y-pred)**2).sum() #le résidu de la somme des carrés des différences (diff entre nos vraies valeurs prédites par le modèle)\n",
        "  v= ((y-y.mean())**2).sum() # (variance)\n",
        "  return 1- u/v\n",
        "coef_determination(y, predictions)"
      ],
      "execution_count": 0,
      "outputs": [
        {
          "output_type": "execute_result",
          "data": {
            "text/plain": [
              "0.9862214008512151"
            ]
          },
          "metadata": {
            "tags": []
          },
          "execution_count": 129
        }
      ]
    }
  ]
}
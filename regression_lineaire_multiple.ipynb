{
  "nbformat": 4,
  "nbformat_minor": 0,
  "metadata": {
    "colab": {
      "name": "Copie de Copie de Copie de Regression_lineaire_multiple.ipynb",
      "provenance": [],
      "toc_visible": true
    },
    "kernelspec": {
      "name": "python3",
      "display_name": "Python 3"
    }
  },
  "cells": [
    {
      "cell_type": "markdown",
      "metadata": {
        "id": "LwNmbME1VNkR",
        "colab_type": "text"
      },
      "source": [
        "#**Régression linéaire multiple**\n"
      ]
    },
    {
      "cell_type": "code",
      "metadata": {
        "id": "hfkOQHy6BNaT",
        "colab_type": "code",
        "colab": {}
      },
      "source": [
        "import numpy as np\n",
        "from sklearn.datasets import make_regression\n",
        "import matplotlib.pyplot as plt"
      ],
      "execution_count": 0,
      "outputs": []
    },
    {
      "cell_type": "code",
      "metadata": {
        "id": "pt8i2bOuBelB",
        "colab_type": "code",
        "outputId": "21766c47-bee9-4187-ae1f-1591892119bd",
        "colab": {
          "base_uri": "https://localhost:8080/",
          "height": 445
        }
      },
      "source": [
        "x,y = make_regression(n_samples=100, n_features=2, noise=10)\n",
        "y=y.reshape(y.shape[0],1)\n",
        "plt.scatter(x[:,0], y)"
      ],
    },
    {
      "cell_type": "code",
      "metadata": {
        "id": "znzzyGYz4NH3",
        "colab_type": "code",
        "colab": {}
      },
      "source": [
        "plt.scatter(x[:,1],y, color='r')"
      ],
      "execution_count": 0,
      "outputs": []
    },
    {
      "cell_type": "code",
      "metadata": {
        "id": "XV0l8CamCdVu",
        "colab_type": "code",
        "colab": {}
      },
      "source": [
        " #Verifier toujours les dimensions\n",
        "print(x.shape)\n",
        "print(y.shape)"
      ],
      "execution_count": 0,
      "outputs": []
    },
    {
      "cell_type": "code",
      "metadata": {
        "id": "Dud0qdsIClTg",
        "colab_type": "code",
        "colab": {}
      },
      "source": [
        "#matrice X\n",
        "X=np.hstack((x, np.ones((x.shape[0],1))))\n",
        "X"
      ],
      "execution_count": 0,
      "outputs": []
    },
    {
      "cell_type": "code",
      "metadata": {
        "id": "jN4BV31HCukw",
        "colab_type": "code",
        "colab": {}
      },
      "source": [
        "#initialiser theta\n",
        "theta=np.random.randn(3,1)\n",
        "theta\n",
        "theta.shape"
      ],
      "execution_count": 0,
      "outputs": []
    },
    {
      "cell_type": "markdown",
      "metadata": {
        "id": "ONxeLBEXE0VS",
        "colab_type": "text"
      },
      "source": [
        "##**Modèle**"
      ]
    },
    {
      "cell_type": "code",
      "metadata": {
        "id": "8OWtZ4jUCuoI",
        "colab_type": "code",
        "colab": {}
      },
      "source": [
        "# h(theta)\n",
        "def model(X, theta):\n",
        "  return X.dot(theta)  #c le produit matriciel, et c l'équivalent de 'ax+b'"
      ],
      "execution_count": 0,
      "outputs": []
    },
    {
      "cell_type": "code",
      "metadata": {
        "id": "o-3HDEURCujW",
        "colab_type": "code",
        "colab": {}
      },
      "source": [
        "#afficher notre modèle pour x1\n",
        "plt.scatter(x[:,0],y)\n",
        "plt.plot(x[:,0], model(X,theta), c='r')"
      ],
      "execution_count": 0,
      "outputs": []
    },
    {
      "cell_type": "code",
      "metadata": {
        "id": "IaGgR-QV3OZc",
        "colab_type": "code",
        "colab": {}
      },
      "source": [
        "#afficher notre modèle pour x2\n",
        "plt.scatter(x[:,1],y)\n",
        "plt.plot(x[:,1], model(X,theta), c='r')"
      ],
      "execution_count": 0,
      "outputs": []
    },
    {
      "cell_type": "markdown",
      "metadata": {
        "id": "PZ9hWcjvGzpc",
        "colab_type": "text"
      },
      "source": [
        "##**Cost function**"
      ]
    },
    {
      "cell_type": "code",
      "metadata": {
        "id": "--zF_t_ZGCk-",
        "colab_type": "code",
        "colab": {}
      },
      "source": [
        "def cost_fct(X,y,theta):\n",
        "  m=len(y)\n",
        "  return 1/(2*m) * np.sum((model(X,theta)-y)**2)\n",
        "\n",
        "cost_fct(X,y,theta)"
      ],
      "execution_count": 0,
      "outputs": []
    },
    {
      "cell_type": "code",
      "metadata": {
        "id": "HVXasD5RH-nL",
        "colab_type": "code",
        "colab": {}
      },
      "source": [
        "def grad(X,y,theta):\n",
        "  m=len(y)\n",
        "  return 1/m * X.T.dot(model(X,theta)-y) # X.T multiplié par h(theta)-y"
      ],
      "execution_count": 0,
      "outputs": []
    },
    {
      "cell_type": "code",
      "metadata": {
        "id": "r3aKR9mILYin",
        "colab_type": "code",
        "colab": {}
      },
      "source": [
        "def gradient_descent(X, y, theta, learning_rate, n_iterations):\n",
        "  cost_history=np.zeros(n_iterations)\n",
        "  for i in range(n_iterations):\n",
        "    theta = theta - learning_rate * grad(X,y,theta)\n",
        "    cost_history[i]=cost_fct(X,y,theta)\n",
        "  return theta, cost_history"
      ],
      "execution_count": 0,
      "outputs": []
    },
    {
      "cell_type": "markdown",
      "metadata": {
        "id": "ZI1nur6eNn7I",
        "colab_type": "text"
      },
      "source": [
        "##**ML!**"
      ]
    },
    {
      "cell_type": "code",
      "metadata": {
        "id": "xrwVFhB3LZGF",
        "colab_type": "code",
        "colab": {}
      },
      "source": [
        "theta_final, cost_history = gradient_descent(X,y, theta, learning_rate=0.001, n_iterations=10000)\n",
        "print(theta_final)\n",
        "print('-'*10 + 'here is the cost function history')\n",
        "cost_history"
      ],
      "execution_count": 0,
      "outputs": []
    },
    {
      "cell_type": "code",
      "metadata": {
        "id": "iLHUKY-XLZJE",
        "colab_type": "code",
        "colab": {}
      },
      "source": [
        "predictions=model(X,theta_final)\n",
        "plt.scatter(x[:,0],y)\n",
        "plt.scatter(x[:,0],predictions, c='r')\n",
        "plt.xlabel('points')\n",
        "plt.ylabel('values')\n",
        "plt.title('A visual')\n",
        "plt.show()"
      ],
      "execution_count": 0,
      "outputs": []
    },
    {
      "cell_type": "code",
      "metadata": {
        "id": "0DDv-raF3Xl4",
        "colab_type": "code",
        "colab": {}
      },
      "source": [
        "predictions=model(X,theta_final)\n",
        "plt.scatter(x[:,1],y)\n",
        "plt.scatter(x[:,1],predictions, c='r')\n",
        "plt.xlabel('points')\n",
        "plt.ylabel('values')\n",
        "plt.title('A visual')\n",
        "plt.show()"
      ],
      "execution_count": 0,
      "outputs": []
    },
    {
      "cell_type": "code",
      "metadata": {
        "id": "FMd4ImvSw-uj",
        "colab_type": "code",
        "colab": {}
      },
      "source": [
        "plt.plot(range(10000), cost_history)\n",
        "plt.xlabel('itérations')\n",
        "plt.ylabel('la fonction coût')\n",
        "plt.title(\"courbe d'apprentissage\")\n",
        "plt.show()"
      ],
      "execution_count": 0,
      "outputs": []
    },
    {
      "cell_type": "code",
      "metadata": {
        "id": "NVwo-h0NxWzd",
        "colab_type": "code",
        "colab": {}
      },
      "source": [
        "# Calcul du coeffeicient R2 de détermination (montrer la réelle performance de notre modèle)\n",
        "\n",
        "def coef_determination(y, pred):    # pred : nos prédictions\n",
        "  u= ((y-pred)**2).sum() #le résidu de la somme des carrés des différences (diff entre nos vraies valeurs prédites par le modèle)\n",
        "  v= ((y-y.mean())**2).sum() # (variance)\n",
        "  return 1- u/v\n",
        "coef_determination(y, predictions)"
      ],
      "execution_count": 0,
      "outputs": []
    },
    {
      "cell_type": "markdown",
      "metadata": {
        "id": "V7vsfpA0EpS7",
        "colab_type": "text"
      },
      "source": [
        "#Représentation en 3D"
      ]
    },
    {
      "cell_type": "code",
      "metadata": {
        "id": "mBr03JbE5CmH",
        "colab_type": "code",
        "colab": {}
      },
      "source": [
        "%matplotlib notebook\n",
        "#cette ligne permet d'ouvrir une fenêtre QT5 pour zoomer et bouger votre graphique\n",
        "import matplotlib.pyplot as plt\n",
        "from mpl_toolkits.mplot3d import Axes3D # module 3D de Matplotlib\n",
        " \n",
        "ax = plt.axes(projection='3d') # Création d'un objet \"axe 3D\"\n",
        "ax.scatter(x[:, 0], x[:, 1], y)\n",
        "ax.scatter(x[:, 0], x[:, 1], predictions)"
      ],
      "execution_count": 0,
      "outputs": []
    }
  ]
}

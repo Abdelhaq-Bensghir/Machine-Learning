{
  "nbformat": 4,
  "nbformat_minor": 0,
  "metadata": {
    "colab": {
      "name": "regressionLineaire",
      "provenance": [],
      "collapsed_sections": [],
      "authorship_tag": "ABX9TyMR4OjEd0B13zQPsCWXNe9f",
      "include_colab_link": true
    },
    "kernelspec": {
      "name": "python3",
      "display_name": "Python 3"
    }
  },
  "cells": [
    {
      "cell_type": "markdown",
      "metadata": {
        "id": "view-in-github",
        "colab_type": "text"
      },
      "source": [
        "<a href=\"https://colab.research.google.com/github/lioAbdo/Machine-Learning/blob/master/regressionLineaire.ipynb\" target=\"_parent\"><img src=\"https://colab.research.google.com/assets/colab-badge.svg\" alt=\"Open In Colab\"/></a>"
      ]
    },
    {
      "cell_type": "markdown",
      "metadata": {
        "id": "LwNmbME1VNkR",
        "colab_type": "text"
      },
      "source": [
        "#**régression Linéaire**"
      ]
    },
    {
      "cell_type": "code",
      "metadata": {
        "id": "hfkOQHy6BNaT",
        "colab_type": "code",
        "colab": {}
      },
      "source": [
        "import numpy as np\n",
        "from sklearn.datasets import make_regression\n",
        "import matplotlib.pyplot as plt"
      ],
      "execution_count": 0,
      "outputs": []
    },
    {
      "cell_type": "code",
      "metadata": {
        "id": "pt8i2bOuBelB",
        "colab_type": "code",
        "outputId": "d2fecdc5-86e9-4d9c-9b32-a23a1915cd74",
        "colab": {
          "base_uri": "https://localhost:8080/",
          "height": 282
        }
      },
      "source": [
        "(x,y) = make_regression(n_samples=100, n_features=1, noise=5)\n",
        "plt.scatter(x,y)"
      ],
      "execution_count": 32,
      "outputs": [
        {
          "output_type": "execute_result",
          "data": {
            "text/plain": [
              "<matplotlib.collections.PathCollection at 0x7fe76e5bc3c8>"
            ]
          },
          "metadata": {
            "tags": []
          },
          "execution_count": 32
        },
        {
          "output_type": "display_data",
          "data": {
            "image/png": "[encoded data removed]",
            "text/plain": [
              "<Figure size 432x288 with 1 Axes>"
            ]
          },
          "metadata": {
            "tags": [],
            "needs_background": "light"
          }
        }
      ]
    },
    {
      "cell_type": "code",
      "metadata": {
        "id": "XV0l8CamCdVu",
        "colab_type": "code",
        "outputId": "333cb306-30d2-40eb-ff76-3792b4e194e6",
        "colab": {
          "base_uri": "https://localhost:8080/",
          "height": 51
        }
      },
      "source": [
        " #Verifier toujours les dimensions\n",
        "print(x.shape)\n",
        "y=y.reshape(y.shape[0],1)\n",
        "print(y.shape)"
      ],
      "execution_count": 33,
      "outputs": [
        {
          "output_type": "stream",
          "text": [
            "(100, 1)\n",
            "(100, 1)\n"
          ],
          "name": "stdout"
        }
      ]
    },
    {
      "cell_type": "code",
      "metadata": {
        "id": "Dud0qdsIClTg",
        "colab_type": "code",
        "outputId": "d2ce6601-d99d-4b89-e9b9-72deac152de1",
        "colab": {
          "base_uri": "https://localhost:8080/",
          "height": 1000
        }
      },
      "source": [
        "#matrice X\n",
        "X=np.hstack((x, np.ones(x.shape)))\n",
        "X"
      ],
      "execution_count": 34,
      "outputs": [
        {
          "output_type": "execute_result",
          "data": {
            "text/plain": [
              "array([[-0.47465907,  1.        ],\n",
              "       [ 1.40632179,  1.        ],\n",
              "       [-1.43152296,  1.        ],\n",
              "       [-1.26496508,  1.        ],\n",
              "       [-0.24841153,  1.        ],\n",
              "       [-1.95827482,  1.        ],\n",
              "       [-1.36037036,  1.        ],\n",
              "       [-0.46729313,  1.        ],\n",
              "       [ 0.23525811,  1.        ],\n",
              "       [ 1.3429566 ,  1.        ],\n",
              "       [ 0.02500477,  1.        ],\n",
              "       [ 0.32678182,  1.        ],\n",
              "       [-0.80169898,  1.        ],\n",
              "       [-1.48798908,  1.        ],\n",
              "       [-0.46322598,  1.        ],\n",
              "       [-0.96584756,  1.        ],\n",
              "       [ 1.00992764,  1.        ],\n",
              "       [-2.07814962,  1.        ],\n",
              "       [-0.65953284,  1.        ],\n",
              "       [ 0.02764581,  1.        ],\n",
              "       [-1.86663995,  1.        ],\n",
              "       [ 0.14026904,  1.        ],\n",
              "       [-0.72167276,  1.        ],\n",
              "       [ 0.3013461 ,  1.        ],\n",
              "       [-0.33077716,  1.        ],\n",
              "       [ 0.44180125,  1.        ],\n",
              "       [ 0.51473504,  1.        ],\n",
              "       [-1.09686388,  1.        ],\n",
              "       [ 1.74411498,  1.        ],\n",
              "       [ 0.58642663,  1.        ],\n",
              "       [-0.24024096,  1.        ],\n",
              "       [ 1.03468534,  1.        ],\n",
              "       [-0.90519368,  1.        ],\n",
              "       [-1.40756852,  1.        ],\n",
              "       [-2.26913423,  1.        ],\n",
              "       [ 1.4844137 ,  1.        ],\n",
              "       [-1.57620884,  1.        ],\n",
              "       [ 1.70795973,  1.        ],\n",
              "       [-0.94468093,  1.        ],\n",
              "       [-1.62971947,  1.        ],\n",
              "       [ 0.92305484,  1.        ],\n",
              "       [ 0.49377211,  1.        ],\n",
              "       [-0.80891587,  1.        ],\n",
              "       [ 0.55776728,  1.        ],\n",
              "       [-0.58724438,  1.        ],\n",
              "       [ 0.11691239,  1.        ],\n",
              "       [ 1.63806251,  1.        ],\n",
              "       [-1.1594571 ,  1.        ],\n",
              "       [ 1.16153693,  1.        ],\n",
              "       [ 0.00280576,  1.        ],\n",
              "       [ 0.14102892,  1.        ],\n",
              "       [-0.3032661 ,  1.        ],\n",
              "       [-0.59532421,  1.        ],\n",
              "       [-0.09686613,  1.        ],\n",
              "       [ 0.33172799,  1.        ],\n",
              "       [ 0.01739411,  1.        ],\n",
              "       [-1.04202729,  1.        ],\n",
              "       [-1.9478583 ,  1.        ],\n",
              "       [ 0.20723942,  1.        ],\n",
              "       [ 1.19736444,  1.        ],\n",
              "       [-0.26082778,  1.        ],\n",
              "       [-0.03180748,  1.        ],\n",
              "       [ 0.43614801,  1.        ],\n",
              "       [ 0.50575315,  1.        ],\n",
              "       [ 0.4786735 ,  1.        ],\n",
              "       [-0.89034794,  1.        ],\n",
              "       [-0.28578349,  1.        ],\n",
              "       [ 0.52245201,  1.        ],\n",
              "       [-0.71127841,  1.        ],\n",
              "       [-0.81368364,  1.        ],\n",
              "       [ 0.85861302,  1.        ],\n",
              "       [ 1.15885193,  1.        ],\n",
              "       [-1.23942583,  1.        ],\n",
              "       [ 0.7019194 ,  1.        ],\n",
              "       [-1.03433283,  1.        ],\n",
              "       [ 0.63628474,  1.        ],\n",
              "       [ 1.36684349,  1.        ],\n",
              "       [ 1.25755956,  1.        ],\n",
              "       [-0.52149498,  1.        ],\n",
              "       [ 0.72054797,  1.        ],\n",
              "       [-0.98019585,  1.        ],\n",
              "       [ 1.49557054,  1.        ],\n",
              "       [ 0.50430863,  1.        ],\n",
              "       [-0.47907266,  1.        ],\n",
              "       [ 0.76502218,  1.        ],\n",
              "       [-1.45252777,  1.        ],\n",
              "       [ 0.11284172,  1.        ],\n",
              "       [-0.45757997,  1.        ],\n",
              "       [-0.06495801,  1.        ],\n",
              "       [-0.01655829,  1.        ],\n",
              "       [ 0.21237381,  1.        ],\n",
              "       [ 0.93838043,  1.        ],\n",
              "       [ 0.5467472 ,  1.        ],\n",
              "       [-0.35781295,  1.        ],\n",
              "       [-1.05918857,  1.        ],\n",
              "       [-1.17968443,  1.        ],\n",
              "       [ 0.33470137,  1.        ],\n",
              "       [-1.09356542,  1.        ],\n",
              "       [ 1.03825255,  1.        ],\n",
              "       [-0.82147742,  1.        ]])"
            ]
          },
          "metadata": {
            "tags": []
          },
          "execution_count": 34
        }
      ]
    },
    {
      "cell_type": "code",
      "metadata": {
        "id": "jN4BV31HCukw",
        "colab_type": "code",
        "outputId": "605e4387-5865-4990-a22b-120b2157b7ee",
        "colab": {
          "base_uri": "https://localhost:8080/",
          "height": 34
        }
      },
      "source": [
        "#initialiser theta\n",
        "np.random.seed()\n",
        "theta=np.random.randn(2,1)\n",
        "theta\n",
        "theta.shape"
      ],
      "execution_count": 35,
      "outputs": [
        {
          "output_type": "execute_result",
          "data": {
            "text/plain": [
              "(2, 1)"
            ]
          },
          "metadata": {
            "tags": []
          },
          "execution_count": 35
        }
      ]
    },
    {
      "cell_type": "markdown",
      "metadata": {
        "id": "ONxeLBEXE0VS",
        "colab_type": "text"
      },
      "source": [
        "##**Modèle**"
      ]
    },
    {
      "cell_type": "code",
      "metadata": {
        "id": "8OWtZ4jUCuoI",
        "colab_type": "code",
        "colab": {}
      },
      "source": [
        "# h(theta)\n",
        "def model(X, theta):\n",
        "  return X.dot(theta)  #c le produit matriciel, et c l'équivalent de 'ax+b'"
      ],
      "execution_count": 0,
      "outputs": []
    },
    {
      "cell_type": "code",
      "metadata": {
        "id": "o-3HDEURCujW",
        "colab_type": "code",
        "outputId": "9887da5f-45a0-4d0c-f3df-48fdaf75850b",
        "colab": {
          "base_uri": "https://localhost:8080/",
          "height": 282
        }
      },
      "source": [
        "#afficher notre modèle\n",
        "plt.scatter(x,y)\n",
        "plt.plot(x, model(X,theta), c='r')"
      ],
      "execution_count": 37,
      "outputs": [
        {
          "output_type": "execute_result",
          "data": {
            "text/plain": [
              "[<matplotlib.lines.Line2D at 0x7fe76e5fd6d8>]"
            ]
          },
          "metadata": {
            "tags": []
          },
          "execution_count": 37
        },
        {
          "output_type": "display_data",
          "data": {
            "image/png": "[encoded data removed]",
            "text/plain": [
              "<Figure size 432x288 with 1 Axes>"
            ]
          },
          "metadata": {
            "tags": [],
            "needs_background": "light"
          }
        }
      ]
    },
    {
      "cell_type": "markdown",
      "metadata": {
        "id": "PZ9hWcjvGzpc",
        "colab_type": "text"
      },
      "source": [
        "##**Cost function**"
      ]
    },
    {
      "cell_type": "code",
      "metadata": {
        "id": "--zF_t_ZGCk-",
        "colab_type": "code",
        "outputId": "742df39d-633e-458b-fe67-760459ec7593",
        "colab": {
          "base_uri": "https://localhost:8080/",
          "height": 34
        }
      },
      "source": [
        "def cost_fct(X,y,theta):\n",
        "  m=len(y)\n",
        "  return 1/(2*m) * np.sum((model(X,theta)-y)**2)\n",
        "\n",
        "cost_fct(X,y,theta)"
      ],
      "execution_count": 38,
      "outputs": [
        {
          "output_type": "execute_result",
          "data": {
            "text/plain": [
              "2686.6398078455854"
            ]
          },
          "metadata": {
            "tags": []
          },
          "execution_count": 38
        }
      ]
    },
    {
      "cell_type": "code",
      "metadata": {
        "id": "HVXasD5RH-nL",
        "colab_type": "code",
        "colab": {}
      },
      "source": [
        "def grad(X,y,theta):\n",
        "  m=len(y)\n",
        "  return 1/m * X.T.dot(model(X,theta)-y) # X.T multiplié par h(theta)-y"
      ],
      "execution_count": 0,
      "outputs": []
    },
    {
      "cell_type": "code",
      "metadata": {
        "id": "r3aKR9mILYin",
        "colab_type": "code",
        "colab": {}
      },
      "source": [
        "def gradient_descent(X, y, theta, learning_rate, n_iterations):\n",
        "  cost_history=np.zeros(n_iterations)\n",
        "  for i in range(n_iterations):\n",
        "    theta = theta - learning_rate * grad(X,y,theta)\n",
        "    cost_history[i]=cost_fct(X,y,theta)\n",
        "  return theta, cost_history"
      ],
      "execution_count": 0,
      "outputs": []
    },
    {
      "cell_type": "markdown",
      "metadata": {
        "id": "ZI1nur6eNn7I",
        "colab_type": "text"
      },
      "source": [
        "##**ML!**"
      ]
    },
    {
      "cell_type": "code",
      "metadata": {
        "id": "xrwVFhB3LZGF",
        "colab_type": "code",
        "outputId": "62e0a61f-02d2-4cae-9332-8ed9674f6ca2",
        "colab": {
          "base_uri": "https://localhost:8080/",
          "height": 102
        }
      },
      "source": [
        "theta_final, cost_history = gradient_descent(X,y, theta, learning_rate=0.001, n_iterations=10000)\n",
        "print(theta_final)\n",
        "print('-'*10 + 'here is the cost function history')\n",
        "cost_history"
      ],
      "execution_count": 41,
      "outputs": [
        {
          "output_type": "stream",
          "text": [
            "[[74.61377287]\n",
            " [ 0.50850592]]\n",
            "----------here is the cost function history\n"
          ],
          "name": "stdout"
        },
        {
          "output_type": "execute_result",
          "data": {
            "text/plain": [
              "array([2681.49204401, 2676.35439699, 2671.22684653, ...,   15.78139345,\n",
              "         15.78139332,   15.78139319])"
            ]
          },
          "metadata": {
            "tags": []
          },
          "execution_count": 41
        }
      ]
    },
    {
      "cell_type": "code",
      "metadata": {
        "id": "iLHUKY-XLZJE",
        "colab_type": "code",
        "outputId": "e0017964-33bb-4833-9a63-331ac1583bca",
        "colab": {
          "base_uri": "https://localhost:8080/",
          "height": 282
        }
      },
      "source": [
        "predictions=model(X,theta_final)\n",
        "plt.scatter(x,y)\n",
        "plt.plot(x,predictions, c='black', alpha=0.5)"
      ],
      "execution_count": 42,
      "outputs": [
        {
          "output_type": "execute_result",
          "data": {
            "text/plain": [
              "[<matplotlib.lines.Line2D at 0x7fe76e5a83c8>]"
            ]
          },
          "metadata": {
            "tags": []
          },
          "execution_count": 42
        },
        {
          "output_type": "display_data",
          "data": {
            "image/png": "[encoded data removed]",
            "text/plain": [
              "<Figure size 432x288 with 1 Axes>"
            ]
          },
          "metadata": {
            "tags": [],
            "needs_background": "light"
          }
        }
      ]
    },
    {
      "cell_type": "code",
      "metadata": {
        "id": "BPo4HLDaeFPd",
        "colab_type": "code",
        "colab": {
          "base_uri": "https://localhost:8080/",
          "height": 295
        },
        "outputId": "85f819bc-99ae-465a-9011-11782a858ca1"
      },
      "source": [
        "plt.plot(range(10000), cost_history)\n",
        "plt.xlabel('itérations')\n",
        "plt.ylabel('la fonction coût')\n",
        "plt.title(\"courbe d'apprentissage\")\n",
        "plt.show()"
      ],
      "execution_count": 50,
      "outputs": [
        {
          "output_type": "display_data",
          "data": {
            "image/png": "[encoded data removed]",
            "text/plain": [
              "<Figure size 432x288 with 1 Axes>"
            ]
          },
          "metadata": {
            "tags": [],
            "needs_background": "light"
          }
        }
      ]
    },
    {
      "cell_type": "markdown",
      "metadata": {
        "id": "zQyJNB04e-qa",
        "colab_type": "text"
      },
      "source": [
        "**on peut constater qu'on a pu s'arrêter à l'étape 400, ça aurait économisé du temps et de l'énergie à la machine**"
      ]
    },
    {
      "cell_type": "markdown",
      "metadata": {
        "id": "gQB9t3TVfaxJ",
        "colab_type": "text"
      },
      "source": [
        "#**Calcul du coeffeicient R2 de détermination**\n",
        "> montrer la réelle performance de notre modèle"
      ]
    },
    {
      "cell_type": "code",
      "metadata": {
        "id": "Kuk15_OTe6o6",
        "colab_type": "code",
        "colab": {
          "base_uri": "https://localhost:8080/",
          "height": 34
        },
        "outputId": "dc7c1300-a11f-49b3-abc5-b19c012ba519"
      },
      "source": [
        "def coef_determination(y, pred):    # pred : nos prédictions\n",
        "  u= ((y-pred)**2).sum() #le résidu de la somme des carrés des différences (diff entre nos vraies valeurs prédites par le modèle)\n",
        "  v= ((y-y.mean())**2).sum() # (variance)\n",
        "  return 1- u/v\n",
        "coef_determination(y, predictions)"
      ],
      "execution_count": 49,
      "outputs": [
        {
          "output_type": "execute_result",
          "data": {
            "text/plain": [
              "0.9939081102300663"
            ]
          },
          "metadata": {
            "tags": []
          },
          "execution_count": 49
        }
      ]
    }
  ]
}
